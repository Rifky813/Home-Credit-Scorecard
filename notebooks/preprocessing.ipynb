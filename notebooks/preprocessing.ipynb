{
 "cells": [
  {
   "cell_type": "code",
   "execution_count": 21,
   "id": "7215b5fa-9ff7-4de4-b9a9-d824e0f430e9",
   "metadata": {},
   "outputs": [],
   "source": [
    "import numpy as np\n",
    "import pandas as pd\n",
    "import os\n",
    "\n",
    "from sklearn.impute import SimpleImputer\n",
    "from sklearn.compose import ColumnTransformer\n",
    "from sklearn.model_selection import train_test_split\n",
    "from sklearn.preprocessing import MinMaxScaler\n",
    "from sklearn.feature_selection import SelectKBest, chi2, mutual_info_classif\n",
    "from imblearn.over_sampling import RandomOverSampler\n",
    "\n",
    "import warnings\n",
    "warnings.filterwarnings(\"ignore\")"
   ]
  },
  {
   "cell_type": "markdown",
   "id": "7b6e604d-5a63-4440-b059-08fa2f09f6ee",
   "metadata": {},
   "source": [
    "# Read Datasets"
   ]
  },
  {
   "cell_type": "code",
   "execution_count": 55,
   "id": "c80186dc-a3ab-4c19-b277-1ce28e48e8e8",
   "metadata": {},
   "outputs": [
    {
     "name": "stdout",
     "output_type": "stream",
     "text": [
      "Train data shape:   (307511, 122)\n",
      "Test data shape:   (48744, 121)\n"
     ]
    }
   ],
   "source": [
    "path = r'C:\\Users\\rifky\\Downloads\\Rakamin Project-Based Virtual Internship\\Home Credit Indonesia (Data Science)\\Final Project\\dataset'\n",
    "\n",
    "app_train = pd.read_csv(os.path.join(path, 'application_train.csv'))\n",
    "print('Train data shape:  ', app_train.shape)\n",
    "app_test = pd.read_csv(os.path.join(path, 'application_test.csv'))\n",
    "print('Test data shape:  ', app_test.shape) "
   ]
  },
  {
   "cell_type": "markdown",
   "id": "3e001304-6042-4db4-b166-20afb2e62873",
   "metadata": {},
   "source": [
    "# Data Preprocessing"
   ]
  },
  {
   "cell_type": "markdown",
   "id": "94651cd8-01ba-4da1-8ae2-5999503efcd1",
   "metadata": {},
   "source": [
    "## Redo previous changes in EDA"
   ]
  },
  {
   "cell_type": "code",
   "execution_count": 56,
   "id": "769d2370-96cc-446f-b52e-c0a157cf6ed6",
   "metadata": {},
   "outputs": [],
   "source": [
    "days_col = [col for col in app_train if 'DAYS' in col]\n",
    "\n",
    "app_train[days_col] = app_train[days_col].abs()\n",
    "app_train['DAYS_EMPLOYED_ANOM'] = app_train['DAYS_EMPLOYED'] == 365243\n",
    "app_train['DAYS_EMPLOYED'].replace({365243: np.nan}, inplace=True)\n",
    "\n",
    "# Lakukan hal yang sama pada data test\n",
    "app_test[days_col] = app_test[days_col].abs()\n",
    "app_test['DAYS_EMPLOYED_ANOM'] = app_test[\"DAYS_EMPLOYED\"] == 365243\n",
    "app_test['DAYS_EMPLOYED'].replace({365243: np.nan}, inplace = True)"
   ]
  },
  {
   "cell_type": "markdown",
   "id": "20b6cfd5-eb0b-4e41-bb6e-a358d5571e6d",
   "metadata": {},
   "source": [
    "## Handle Missing Values above 50%"
   ]
  },
  {
   "cell_type": "code",
   "execution_count": 57,
   "id": "85313597-a889-43b0-b258-b8ad3fe1afda",
   "metadata": {},
   "outputs": [
    {
     "name": "stdout",
     "output_type": "stream",
     "text": [
      "Dropped Columns: \n",
      " Index(['OWN_CAR_AGE', 'EXT_SOURCE_1', 'APARTMENTS_AVG', 'BASEMENTAREA_AVG',\n",
      "       'YEARS_BUILD_AVG', 'COMMONAREA_AVG', 'ELEVATORS_AVG', 'ENTRANCES_AVG',\n",
      "       'FLOORSMIN_AVG', 'LANDAREA_AVG', 'LIVINGAPARTMENTS_AVG',\n",
      "       'LIVINGAREA_AVG', 'NONLIVINGAPARTMENTS_AVG', 'NONLIVINGAREA_AVG',\n",
      "       'APARTMENTS_MODE', 'BASEMENTAREA_MODE', 'YEARS_BUILD_MODE',\n",
      "       'COMMONAREA_MODE', 'ELEVATORS_MODE', 'ENTRANCES_MODE', 'FLOORSMIN_MODE',\n",
      "       'LANDAREA_MODE', 'LIVINGAPARTMENTS_MODE', 'LIVINGAREA_MODE',\n",
      "       'NONLIVINGAPARTMENTS_MODE', 'NONLIVINGAREA_MODE', 'APARTMENTS_MEDI',\n",
      "       'BASEMENTAREA_MEDI', 'YEARS_BUILD_MEDI', 'COMMONAREA_MEDI',\n",
      "       'ELEVATORS_MEDI', 'ENTRANCES_MEDI', 'FLOORSMIN_MEDI', 'LANDAREA_MEDI',\n",
      "       'LIVINGAPARTMENTS_MEDI', 'LIVINGAREA_MEDI', 'NONLIVINGAPARTMENTS_MEDI',\n",
      "       'NONLIVINGAREA_MEDI', 'FONDKAPREMONT_MODE', 'HOUSETYPE_MODE',\n",
      "       'WALLSMATERIAL_MODE'],\n",
      "      dtype='object')\n",
      "Train data shape before drop:  (307511, 123)\n",
      "Train data shape after drop:  (307511, 82)\n"
     ]
    }
   ],
   "source": [
    "missing_percent = app_train.isna().mean() * 100\n",
    "\n",
    "missing_over_50 = missing_percent[missing_percent > 50].index\n",
    "\n",
    "app_train_after_drop = app_train.drop(columns=missing_over_50)\n",
    "app_test = app_test.drop(columns=missing_over_50, errors='ignore')\n",
    "\n",
    "print('Dropped Columns: \\n', missing_percent[missing_percent > 50].index)\n",
    "print('Train data shape before drop: ', app_train.shape)\n",
    "print('Train data shape after drop: ', app_train_after_drop.shape)"
   ]
  },
  {
   "cell_type": "markdown",
   "id": "9d7cb055-8e22-471a-9e1d-9c2654f18dcd",
   "metadata": {},
   "source": [
    "### Categorical Missing Values"
   ]
  },
  {
   "cell_type": "code",
   "execution_count": 58,
   "id": "7633fc9d-f083-4b2a-b1e7-19c1c8c67e36",
   "metadata": {},
   "outputs": [],
   "source": [
    "app_train = app_train_after_drop"
   ]
  },
  {
   "cell_type": "code",
   "execution_count": 59,
   "id": "8c31295f-5376-433a-bf0c-7d7cce78da49",
   "metadata": {},
   "outputs": [],
   "source": [
    "app_train_cat = app_train.select_dtypes(object)\n",
    "app_train_cat = app_train_cat.replace('XNA', 'Unknown')\n",
    "\n",
    "# mengisi missing value dengan 'Unknown'\n",
    "app_train_cat['OCCUPATION_TYPE'] = app_train['OCCUPATION_TYPE'].fillna('Unknown')\n",
    "app_train_cat['EMERGENCYSTATE_MODE'] = app_train['EMERGENCYSTATE_MODE'].fillna('Unknown')\n",
    "\n",
    "# membuang baris dengan 'CODE_GENDER' dan 'NAME_FAMILY_STATUS' yang bernilai 'Unknown' karena hanya sedikit\n",
    "app_train_cat = app_train_cat[app_train_cat['CODE_GENDER'] != 'Unknown']\n",
    "app_train_cat = app_train_cat[app_train_cat['NAME_FAMILY_STATUS'] != 'Unknown']"
   ]
  },
  {
   "cell_type": "code",
   "execution_count": 60,
   "id": "46547cf0-65a2-420f-9fe1-b6e1b8b0c037",
   "metadata": {},
   "outputs": [],
   "source": [
    "# Terapkan hal yang sama di test\n",
    "app_test_cat = app_test.select_dtypes(object)\n",
    "app_test_cat = app_test_cat.replace('XNA', 'Unknown')\n",
    "\n",
    "app_test_cat['OCCUPATION_TYPE'] = app_test['OCCUPATION_TYPE'].fillna('Unknown')\n",
    "app_test_cat['EMERGENCYSTATE_MODE'] = app_test['EMERGENCYSTATE_MODE'].fillna('Unknown')\n",
    "\n",
    "app_test_cat = app_test_cat[app_test_cat['CODE_GENDER'] != 'Unknown']\n",
    "app_test_cat = app_test_cat[app_test_cat['NAME_FAMILY_STATUS'] != 'Unknown']"
   ]
  },
  {
   "cell_type": "markdown",
   "id": "9d234d4d-5719-485d-bd28-d533aea69b6f",
   "metadata": {},
   "source": [
    "#### Untuk nilai null (NaN) di kolom 'EMERGENCYSTATE_MODE', 'OCCUPATION_TYPE', dan 'NAME_TYPE_SUITE' akan di-handle setelah train_test_split"
   ]
  },
  {
   "cell_type": "code",
   "execution_count": 61,
   "id": "6dc86d14-4962-4157-995c-e521759c87a3",
   "metadata": {},
   "outputs": [],
   "source": [
    "# Sinkronkan baris dengan app_train_cat yang sudah dibersihkan\n",
    "app_train = app_train.loc[app_train_cat.index]\n",
    "app_test = app_test.loc[app_test_cat.index]\n",
    "\n",
    "# Lalu update kolom objeknya\n",
    "app_train.update(app_train_cat)\n",
    "app_test.update(app_test_cat)"
   ]
  },
  {
   "cell_type": "code",
   "execution_count": 62,
   "id": "a64e93c5-fadd-4e73-998d-71ab90fa6d0d",
   "metadata": {},
   "outputs": [],
   "source": [
    "app_test_id = app_test['SK_ID_CURR']\n",
    "\n",
    "app_train.drop('SK_ID_CURR', axis=1, inplace=True)\n",
    "app_test.drop('SK_ID_CURR', axis=1, inplace=True)"
   ]
  },
  {
   "cell_type": "markdown",
   "id": "512f2f49-d299-491a-afdd-0821f29baf9a",
   "metadata": {},
   "source": [
    "### > Impute Numerical, Binary, and Categorical Missing Values"
   ]
  },
  {
   "cell_type": "code",
   "execution_count": 63,
   "id": "c4a2a37b-f341-4dea-b013-64f23d84fb95",
   "metadata": {},
   "outputs": [],
   "source": [
    "def fit_imputer(df):\n",
    "\n",
    "    # Deteksi kolom numerik & binary\n",
    "    binary_cols = [col for col in df.select_dtypes(include=['int64', 'float64']).columns\n",
    "                   if set(df[col].dropna().unique()) <= {0, 1}]\n",
    "    \n",
    "    num_cols = [col for col in df.select_dtypes(include=['int64', 'float64']).columns\n",
    "                    if col not in binary_cols]\n",
    "\n",
    "    cat_cols = ['NAME_TYPE_SUITE']\n",
    "    \n",
    "    imputer_mode = SimpleImputer(strategy='most_frequent')\n",
    "    imputer_med = SimpleImputer(strategy='median')\n",
    "    \n",
    "    imputer = ColumnTransformer(\n",
    "        transformers=[\n",
    "            ('bin', imputer_mode, binary_cols), \n",
    "            ('num', imputer_med, num_cols),\n",
    "            ('cat', imputer_mode, cat_cols)\n",
    "        ],\n",
    "        remainder='passthrough'\n",
    "    )\n",
    "\n",
    "    imputer.fit(df)\n",
    "\n",
    "    return imputer, binary_cols + num_cols + cat_cols"
   ]
  },
  {
   "cell_type": "code",
   "execution_count": 64,
   "id": "5b335888-115e-4683-b30b-c6c6c5cf8e01",
   "metadata": {},
   "outputs": [],
   "source": [
    "def transform_imputer(df, imputer, ordered_cols):\n",
    "    df_array = imputer.transform(df)\n",
    "\n",
    "    # Ambil nama semua kolom (yang ikut maupun tidak ikut transformasi)\n",
    "    all_columns = ordered_cols + [col for col in df.columns if col not in ordered_cols]\n",
    "\n",
    "    # Kembalikan dataframe hasil imputasi\n",
    "    return pd.DataFrame(df_array, columns=all_columns, index=df.index)"
   ]
  },
  {
   "cell_type": "code",
   "execution_count": 65,
   "id": "adf650bb-ef47-4798-9736-e0eb25657d21",
   "metadata": {},
   "outputs": [],
   "source": [
    "X = app_train.drop('TARGET', axis=1)\n",
    "y = app_train['TARGET']\n",
    "\n",
    "X_train, X_val, y_train, y_val = train_test_split(X, y, stratify=y, test_size=0.2, random_state=50)"
   ]
  },
  {
   "cell_type": "code",
   "execution_count": 66,
   "id": "096f44d1-5248-4dc6-b484-e4af1833c02f",
   "metadata": {},
   "outputs": [],
   "source": [
    "imputer, imputed_cols = fit_imputer(X_train)\n",
    "\n",
    "X_train_filled = transform_imputer(X_train, imputer, imputed_cols)\n",
    "X_val_filled  = transform_imputer(X_val, imputer, imputed_cols)\n",
    "app_test_filled  = transform_imputer(app_test, imputer, imputed_cols)"
   ]
  },
  {
   "cell_type": "code",
   "execution_count": 67,
   "id": "89c3156d-e151-414e-8d95-e358b2676123",
   "metadata": {},
   "outputs": [],
   "source": [
    "original_dtypes = app_train.dtypes\n",
    "\n",
    "def ori_dtype(df):\n",
    "    for col in df.columns:\n",
    "        if col in original_dtypes:\n",
    "            try:\n",
    "                df[col] = df[col].astype(original_dtypes[col])\n",
    "            except Exception as e:\n",
    "                print(f\"Gagal casting kolom '{col}' ke {original_dtypes[col]}: {e}\")\n",
    "    return df"
   ]
  },
  {
   "cell_type": "code",
   "execution_count": 68,
   "id": "1bee29f8-a04d-4b24-9600-759b48b186a1",
   "metadata": {},
   "outputs": [],
   "source": [
    "X_train_filled = ori_dtype(X_train_filled)\n",
    "X_val_filled = ori_dtype(X_val_filled)\n",
    "app_test_filled = ori_dtype(app_test_filled)"
   ]
  },
  {
   "cell_type": "markdown",
   "id": "243edf95-a921-4307-87c3-b7a1b6ec4d53",
   "metadata": {},
   "source": [
    "### > Encoding Numerical Variable"
   ]
  },
  {
   "cell_type": "code",
   "execution_count": 69,
   "id": "488ab29d-7505-4d8b-b6f7-5d35c7696a19",
   "metadata": {},
   "outputs": [
    {
     "name": "stdout",
     "output_type": "stream",
     "text": [
      "4 columns were label encoded\n"
     ]
    }
   ],
   "source": [
    "from sklearn.preprocessing import LabelEncoder\n",
    "\n",
    "le_dict = {}\n",
    "le_count = 0\n",
    "\n",
    "for col in X_train_filled.select_dtypes(include='object').columns:\n",
    "    if X_train_filled[col].nunique() == 2:\n",
    "        le = LabelEncoder()\n",
    "        le.fit(X_train_filled[col])\n",
    "        \n",
    "        X_train_filled[col] = le.transform(X_train_filled[col])\n",
    "        X_val_filled[col] = X_val_filled[col].map(lambda x: le.transform([x])[0] if x in set(le.classes_) else np.nan)\n",
    "        app_test_filled[col] = app_test_filled[col].map(lambda x: le.transform([x])[0] if x in set(le.classes_) else np.nan)\n",
    "        \n",
    "        le_dict[col] = le\n",
    "        le_count += 1\n",
    "\n",
    "print(f\"{le_count} columns were label encoded\")"
   ]
  },
  {
   "cell_type": "markdown",
   "id": "3798dc17-c258-4d0f-ae82-f6210eb253d3",
   "metadata": {},
   "source": [
    "### Encoding Categorical Variable"
   ]
  },
  {
   "cell_type": "code",
   "execution_count": 70,
   "id": "9450eca0-4306-43af-93a3-24ebc839f6ab",
   "metadata": {},
   "outputs": [
    {
     "name": "stdout",
     "output_type": "stream",
     "text": [
      "Train encoded shape: (246004, 134)\n",
      "Validation encoded shape: (61501, 134)\n",
      "application_test encoded shape: (48744, 134)\n"
     ]
    }
   ],
   "source": [
    "# Tentukan kolom kategorikal\n",
    "cat_cols = X_train_filled.select_dtypes(include='object').columns.tolist()\n",
    "\n",
    "# Pisahkan berdasarkan jumlah kategori\n",
    "low_card_cols = [col for col in cat_cols if X_train_filled[col].nunique() <= 10]\n",
    "high_card_cols = [col for col in cat_cols if X_train_filled[col].nunique() > 10]\n",
    "\n",
    "# One-Hot Encoding untuk low cardinality\n",
    "X_train_low = pd.get_dummies(X_train_filled[low_card_cols], drop_first=True)\n",
    "X_val_low = pd.get_dummies(X_val_filled[low_card_cols], drop_first=True)\n",
    "app_test_low = pd.get_dummies(app_test_filled[low_card_cols], drop_first=True)\n",
    "\n",
    "# Pastikan kolom sama di train & test (karena drop_first bisa bikin beda)\n",
    "X_val_low = X_val_low.reindex(columns=X_train_low.columns, fill_value=0)\n",
    "app_test_low = app_test_low.reindex(columns=X_train_low.columns, fill_value=0)\n",
    "\n",
    "# Encode high-cardinality dengan reduksi top-N kategori\n",
    "top_k = 15\n",
    "X_train_high_encoded = []\n",
    "X_val_high_encoded = []\n",
    "app_test_high_encoded = []\n",
    "\n",
    "for col in high_card_cols:\n",
    "    top_cats = X_train_filled[col].value_counts().nlargest(top_k).index\n",
    "    \n",
    "    # Replace rare dengan 'Other'\n",
    "    train_reduced = X_train_filled[col].where(X_train_filled[col].isin(top_cats), 'Other')\n",
    "    test_reduced = X_val_filled[col].where(X_val_filled[col].isin(top_cats), 'Other')\n",
    "    app_test_reduced = app_test_filled[col].where(app_test_filled[col].isin(top_cats), 'Other')\n",
    "    \n",
    "    # One-hot encode\n",
    "    train_encoded = pd.get_dummies(train_reduced, prefix=col, drop_first=True)\n",
    "    test_encoded = pd.get_dummies(test_reduced, prefix=col, drop_first=True)\n",
    "    app_test_encoded = pd.get_dummies(app_test_reduced, prefix=col, drop_first=True)\n",
    "    \n",
    "    # Reindex test supaya sama kolomnya\n",
    "    test_encoded = test_encoded.reindex(columns=train_encoded.columns, fill_value=0)\n",
    "    app_test_encoded = app_test_encoded.reindex(columns=train_encoded.columns, fill_value=0)\n",
    "    \n",
    "    X_train_high_encoded.append(train_encoded)\n",
    "    X_val_high_encoded.append(test_encoded)\n",
    "    app_test_high_encoded.append(app_test_encoded)\n",
    "\n",
    "# Gabungkan semua hasil encoding\n",
    "X_train_encoded = pd.concat(\n",
    "    [X_train_filled.drop(columns=cat_cols), X_train_low] + X_train_high_encoded, axis=1)\n",
    "\n",
    "X_val_encoded = pd.concat(\n",
    "    [X_val_filled.drop(columns=cat_cols), X_val_low] + X_val_high_encoded, axis=1)\n",
    "\n",
    "app_test_encoded = pd.concat(\n",
    "    [app_test_filled.drop(columns=cat_cols), app_test_low] + app_test_high_encoded, axis=1)\n",
    "\n",
    "# Cek hasil akhir\n",
    "print(\"Train encoded shape:\", X_train_encoded.shape)\n",
    "print(\"Validation encoded shape:\", X_val_encoded.shape)\n",
    "print(\"application_test encoded shape:\", app_test_encoded.shape)"
   ]
  },
  {
   "cell_type": "markdown",
   "id": "3d09dbf0-da82-42d8-8cb0-3bdf63a0cba2",
   "metadata": {},
   "source": [
    "# Feature Selection"
   ]
  },
  {
   "cell_type": "markdown",
   "id": "122e00f4-3cd6-4121-ac2f-1f5a5d94c732",
   "metadata": {},
   "source": [
    "### Check Correlation"
   ]
  },
  {
   "cell_type": "code",
   "execution_count": 71,
   "id": "78e98a75-0815-4328-8f8a-f8f866fb998d",
   "metadata": {},
   "outputs": [
    {
     "data": {
      "text/plain": [
       "FLAG_DOCUMENT_3     0.043661\n",
       "FLAG_DOCUMENT_2     0.006476\n",
       "FLAG_DOCUMENT_21    0.004215\n",
       "FLAG_DOCUMENT_20    0.000977\n",
       "FLAG_DOCUMENT_5     0.000295\n",
       "FLAG_DOCUMENT_12   -0.000597\n",
       "FLAG_DOCUMENT_19   -0.000717\n",
       "FLAG_DOCUMENT_10   -0.001336\n",
       "FLAG_DOCUMENT_7    -0.001514\n",
       "FLAG_DOCUMENT_4    -0.002535\n",
       "FLAG_DOCUMENT_11   -0.002717\n",
       "FLAG_DOCUMENT_17   -0.003083\n",
       "FLAG_DOCUMENT_9    -0.003697\n",
       "FLAG_DOCUMENT_15   -0.006177\n",
       "FLAG_DOCUMENT_8    -0.008319\n",
       "FLAG_DOCUMENT_18   -0.008480\n",
       "FLAG_DOCUMENT_14   -0.008793\n",
       "FLAG_DOCUMENT_16   -0.010758\n",
       "FLAG_DOCUMENT_13   -0.011285\n",
       "FLAG_DOCUMENT_6    -0.028417\n",
       "dtype: float64"
      ]
     },
     "execution_count": 71,
     "metadata": {},
     "output_type": "execute_result"
    }
   ],
   "source": [
    "flag_col = [col for col in X_train_encoded.columns if 'FLAG_DOCUMENT' in col]\n",
    "corr_with_y = X_train_encoded[flag_col].corrwith(y_train)\n",
    "corr_with_y.sort_values(ascending=False)"
   ]
  },
  {
   "cell_type": "code",
   "execution_count": 72,
   "id": "b4826a5c-1e17-4abe-9e6a-fcf8350e0970",
   "metadata": {},
   "outputs": [],
   "source": [
    "flag_to_drop = corr_with_y.sort_values(ascending=False).index[1:]\n",
    "\n",
    "X_train_encoded = X_train_encoded.drop(columns=flag_to_drop)\n",
    "X_val_encoded = X_val_encoded.drop(columns=flag_to_drop)\n",
    "app_test_encoded = app_test_encoded.drop(columns=flag_to_drop)"
   ]
  },
  {
   "cell_type": "code",
   "execution_count": 73,
   "id": "3a404903-f415-4160-a511-5b1dc439d1b6",
   "metadata": {},
   "outputs": [
    {
     "name": "stdout",
     "output_type": "stream",
     "text": [
      "FLAG_EMP_PHONE                        DAYS_EMPLOYED_ANOM                                   0.999862\n",
      "                                      NAME_INCOME_TYPE_Pensioner                           0.999545\n",
      "                                      ORGANIZATION_TYPE_Unknown                            0.999862\n",
      "REG_REGION_NOT_WORK_REGION            LIVE_REGION_NOT_WORK_REGION                          0.861056\n",
      "CNT_CHILDREN                          CNT_FAM_MEMBERS                                      0.879117\n",
      "AMT_CREDIT                            AMT_GOODS_PRICE                                      0.986672\n",
      "REGION_RATING_CLIENT                  REGION_RATING_CLIENT_W_CITY                          0.950630\n",
      "YEARS_BEGINEXPLUATATION_AVG           YEARS_BEGINEXPLUATATION_MODE                         0.971808\n",
      "                                      YEARS_BEGINEXPLUATATION_MEDI                         0.993555\n",
      "FLOORSMAX_AVG                         FLOORSMAX_MODE                                       0.986532\n",
      "                                      FLOORSMAX_MEDI                                       0.997203\n",
      "YEARS_BEGINEXPLUATATION_MODE          YEARS_BEGINEXPLUATATION_MEDI                         0.963811\n",
      "FLOORSMAX_MODE                        FLOORSMAX_MEDI                                       0.988967\n",
      "OBS_30_CNT_SOCIAL_CIRCLE              OBS_60_CNT_SOCIAL_CIRCLE                             0.998518\n",
      "DEF_30_CNT_SOCIAL_CIRCLE              DEF_60_CNT_SOCIAL_CIRCLE                             0.860391\n",
      "DAYS_EMPLOYED_ANOM                    NAME_INCOME_TYPE_Pensioner                           0.999683\n",
      "                                      ORGANIZATION_TYPE_Unknown                            1.000000\n",
      "NAME_INCOME_TYPE_Pensioner            ORGANIZATION_TYPE_Unknown                            0.999683\n",
      "NAME_EDUCATION_TYPE_Higher education  NAME_EDUCATION_TYPE_Secondary / secondary special    0.888211\n",
      "dtype: float64\n"
     ]
    }
   ],
   "source": [
    "corr_matrix = X_train_encoded.corr().abs()\n",
    "\n",
    "# Ambil segitiga atas matriks korelasi (untuk menghindari duplikat dan korelasi diri sendiri)\n",
    "upper = np.triu(np.ones(corr_matrix.shape), k=1).astype(bool)\n",
    "high_corr_pairs = corr_matrix.where(upper)\n",
    "\n",
    "# Tampilkan pasangan kolom dengan korelasi > 0.85\n",
    "high_corr = high_corr_pairs.stack()[high_corr_pairs.stack() > 0.85]\n",
    "print(high_corr)"
   ]
  },
  {
   "cell_type": "code",
   "execution_count": 74,
   "id": "d5b8ed42-94d4-4b26-9460-91c7b980b179",
   "metadata": {},
   "outputs": [
    {
     "data": {
      "text/plain": [
       "REGION_RATING_CLIENT_W_CITY                          0.060405\n",
       "REGION_RATING_CLIENT                                 0.057964\n",
       "NAME_EDUCATION_TYPE_Secondary / secondary special    0.049616\n",
       "FLAG_EMP_PHONE                                       0.046821\n",
       "DEF_30_CNT_SOCIAL_CIRCLE                             0.032636\n",
       "DEF_60_CNT_SOCIAL_CIRCLE                             0.031422\n",
       "CNT_CHILDREN                                         0.019697\n",
       "OBS_30_CNT_SOCIAL_CIRCLE                             0.009763\n",
       "OBS_60_CNT_SOCIAL_CIRCLE                             0.009652\n",
       "CNT_FAM_MEMBERS                                      0.009467\n",
       "REG_REGION_NOT_WORK_REGION                           0.008444\n",
       "LIVE_REGION_NOT_WORK_REGION                          0.003552\n",
       "YEARS_BEGINEXPLUATATION_MODE                        -0.003639\n",
       "YEARS_BEGINEXPLUATATION_AVG                         -0.004517\n",
       "YEARS_BEGINEXPLUATATION_MEDI                        -0.004649\n",
       "AMT_CREDIT                                          -0.030762\n",
       "FLOORSMAX_MODE                                      -0.038542\n",
       "FLOORSMAX_MEDI                                      -0.039415\n",
       "FLOORSMAX_AVG                                       -0.039659\n",
       "AMT_GOODS_PRICE                                     -0.040038\n",
       "DAYS_EMPLOYED_ANOM                                  -0.046832\n",
       "ORGANIZATION_TYPE_Unknown                           -0.046832\n",
       "NAME_INCOME_TYPE_Pensioner                          -0.047035\n",
       "NAME_EDUCATION_TYPE_Higher education                -0.056555\n",
       "dtype: float64"
      ]
     },
     "execution_count": 74,
     "metadata": {},
     "output_type": "execute_result"
    }
   ],
   "source": [
    "high_corr_feat = ['FLAG_EMP_PHONE', 'DAYS_EMPLOYED_ANOM', 'NAME_INCOME_TYPE_Pensioner', 'ORGANIZATION_TYPE_Unknown',\n",
    "                  'REG_REGION_NOT_WORK_REGION', 'LIVE_REGION_NOT_WORK_REGION', 'CNT_CHILDREN', 'CNT_FAM_MEMBERS',\n",
    "                  'AMT_CREDIT', 'AMT_GOODS_PRICE', 'REGION_RATING_CLIENT', 'REGION_RATING_CLIENT_W_CITY',\n",
    "                  'YEARS_BEGINEXPLUATATION_AVG', 'YEARS_BEGINEXPLUATATION_MODE', 'YEARS_BEGINEXPLUATATION_MEDI', 'FLOORSMAX_AVG',\n",
    "                  'FLOORSMAX_MODE', 'FLOORSMAX_MEDI', 'OBS_30_CNT_SOCIAL_CIRCLE', 'OBS_60_CNT_SOCIAL_CIRCLE',\n",
    "                  'DEF_30_CNT_SOCIAL_CIRCLE', 'DEF_60_CNT_SOCIAL_CIRCLE', 'NAME_EDUCATION_TYPE_Higher education',\n",
    "                  'NAME_EDUCATION_TYPE_Secondary / secondary special']\n",
    "\n",
    "high_corr_y = X_train_encoded[high_corr_feat].corrwith(y_train)\n",
    "high_corr_y.sort_values(ascending=False)"
   ]
  },
  {
   "cell_type": "code",
   "execution_count": 75,
   "id": "dfce3792-ce0d-44ee-af30-77fbe8d58bf1",
   "metadata": {},
   "outputs": [],
   "source": [
    "columns_to_drop = ['FLAG_EMP_PHONE', 'AMT_GOODS_PRICE', 'FLOORSMAX_MODE', 'FLOORSMAX_MEDI', \n",
    "                   'YEARS_BEGINEXPLUATATION_MODE', 'YEARS_BEGINEXPLUATATION_AVG', 'REGION_RATING_CLIENT',\n",
    "                   'ORGANIZATION_TYPE_Unknown', 'DAYS_EMPLOYED_ANOM', 'NAME_EDUCATION_TYPE_Secondary / secondary special',\n",
    "                   'OBS_60_CNT_SOCIAL_CIRCLE', 'DEF_60_CNT_SOCIAL_CIRCLE', 'CNT_FAM_MEMBERS', 'LIVE_REGION_NOT_WORK_REGION']\n",
    "\n",
    "X_train_encoded = X_train_encoded.drop(columns=columns_to_drop)\n",
    "X_val_encoded = X_val_encoded.drop(columns=columns_to_drop)\n",
    "app_test_encoded = app_test_encoded.drop(columns=columns_to_drop)"
   ]
  },
  {
   "cell_type": "code",
   "execution_count": 76,
   "id": "75736fdf-a246-49bd-a2f3-187d67c71a8a",
   "metadata": {},
   "outputs": [
    {
     "name": "stdout",
     "output_type": "stream",
     "text": [
      "Train encoded shape: (246004, 101)\n",
      "test encoded shape: (61501, 101)\n",
      "application_test encoded shape: (48744, 101)\n"
     ]
    }
   ],
   "source": [
    "print(\"Train encoded shape:\", X_train_encoded.shape)\n",
    "print(\"test encoded shape:\", X_val_encoded.shape)\n",
    "print(\"application_test encoded shape:\", app_test_encoded.shape)"
   ]
  },
  {
   "cell_type": "markdown",
   "id": "ad5f4096-a8de-4805-ac8a-bdb493157f53",
   "metadata": {},
   "source": [
    "### Scaling with MinMaxScaler"
   ]
  },
  {
   "cell_type": "code",
   "execution_count": 98,
   "id": "1e3a9c80-cb27-4e39-a41d-f2b3c4936006",
   "metadata": {},
   "outputs": [],
   "source": [
    "mms = MinMaxScaler()\n",
    "X_train_scaled = mms.fit_transform(X_train_encoded)\n",
    "X_val_scaled = mms.transform(X_val_encoded)\n",
    "final_app_test = mms.transform(app_test_encoded)\n",
    "\n",
    "X_train_scaled = pd.DataFrame(X_train_scaled, columns=X_train_encoded.columns)\n",
    "X_val_scaled = pd.DataFrame(X_val_scaled, columns=X_val_encoded.columns)\n",
    "final_app_test = pd.DataFrame(final_app_test, columns=app_test_encoded.columns)"
   ]
  },
  {
   "cell_type": "markdown",
   "id": "63c11fda-31ca-44c1-8604-20030ac99d34",
   "metadata": {},
   "source": [
    "### SelectKBest Method"
   ]
  },
  {
   "cell_type": "code",
   "execution_count": 107,
   "id": "0825fce2-9709-4f0e-95e4-c84e3a8e2a03",
   "metadata": {},
   "outputs": [],
   "source": [
    "class FeatureSelector:\n",
    "    def __init__(self, method, k=30):\n",
    "        \"\"\"\n",
    "        method: fungsi scoring\n",
    "        k: jumlah fitur terbaik yang dipilih\n",
    "        \"\"\"\n",
    "        self.method = method\n",
    "        self.k = k\n",
    "        self.selector = SelectKBest(score_func=self.method, k=self.k)\n",
    "        self.feature_scores_ = None\n",
    "        self.selected_features_ = None\n",
    "\n",
    "    def fit(self, X, y):\n",
    "        \"\"\"Melatih selector dan menyimpan skor fitur\"\"\"\n",
    "        self.selector.fit(X, y)\n",
    "        self.feature_scores_ = pd.DataFrame({\n",
    "            \"Features\": X.columns,\n",
    "            \"Score\": self.selector.scores_\n",
    "        }).sort_values(by=\"Score\", ascending=False)\n",
    "        self.selected_features_ = X.columns[self.selector.get_support()]\n",
    "        return self\n",
    "\n",
    "    def show_top_features(self, n=10):\n",
    "        \"\"\"Menampilkan n fitur dengan skor tertinggi\"\"\"\n",
    "        if self.feature_scores_ is None:\n",
    "            raise ValueError(\"⚠️ Selector belum di-fit. Jalankan .fit(X, y) dulu.\")\n",
    "        print(f\"Top {n} features that correlate well with target feature:\")\n",
    "        display(self.feature_scores_.head(n))\n",
    "\n",
    "    def transform(self, X):\n",
    "        \"\"\"Transform dataset menggunakan fitur terpilih\"\"\"\n",
    "        if self.selector is None:\n",
    "            raise ValueError(\"⚠️ Selector belum di-fit. Jalankan .fit(X, y) dulu.\")\n",
    "        X_selected = self.selector.transform(X)\n",
    "        return pd.DataFrame(X_selected, columns=self.selected_features_)\n",
    "\n",
    "    def fit_transform(self, X, y):\n",
    "        \"\"\"Langsung fit dan transform sekaligus\"\"\"\n",
    "        self.fit(X, y)\n",
    "        return self.transform(X)"
   ]
  },
  {
   "cell_type": "markdown",
   "id": "52d7f56c-79b3-4726-b108-15f495075f43",
   "metadata": {},
   "source": [
    "#### Using chi2"
   ]
  },
  {
   "cell_type": "code",
   "execution_count": 108,
   "id": "f7a31743-1348-4e09-b662-918976a6ac6c",
   "metadata": {},
   "outputs": [
    {
     "name": "stdout",
     "output_type": "stream",
     "text": [
      "Top 10 features that correlate well with target feature:\n"
     ]
    },
    {
     "data": {
      "text/html": [
       "<div>\n",
       "<style scoped>\n",
       "    .dataframe tbody tr th:only-of-type {\n",
       "        vertical-align: middle;\n",
       "    }\n",
       "\n",
       "    .dataframe tbody tr th {\n",
       "        vertical-align: top;\n",
       "    }\n",
       "\n",
       "    .dataframe thead th {\n",
       "        text-align: right;\n",
       "    }\n",
       "</style>\n",
       "<table border=\"1\" class=\"dataframe\">\n",
       "  <thead>\n",
       "    <tr style=\"text-align: right;\">\n",
       "      <th></th>\n",
       "      <th>Features</th>\n",
       "      <th>Score</th>\n",
       "    </tr>\n",
       "  </thead>\n",
       "  <tbody>\n",
       "    <tr>\n",
       "      <th>53</th>\n",
       "      <td>NAME_EDUCATION_TYPE_Higher education</td>\n",
       "      <td>595.293713</td>\n",
       "    </tr>\n",
       "    <tr>\n",
       "      <th>22</th>\n",
       "      <td>EXT_SOURCE_2</td>\n",
       "      <td>530.926053</td>\n",
       "    </tr>\n",
       "    <tr>\n",
       "      <th>8</th>\n",
       "      <td>REG_CITY_NOT_WORK_CITY</td>\n",
       "      <td>523.532429</td>\n",
       "    </tr>\n",
       "    <tr>\n",
       "      <th>37</th>\n",
       "      <td>CODE_GENDER</td>\n",
       "      <td>496.911558</td>\n",
       "    </tr>\n",
       "    <tr>\n",
       "      <th>7</th>\n",
       "      <td>REG_CITY_NOT_LIVE_CITY</td>\n",
       "      <td>462.802338</td>\n",
       "    </tr>\n",
       "    <tr>\n",
       "      <th>48</th>\n",
       "      <td>NAME_INCOME_TYPE_Pensioner</td>\n",
       "      <td>446.366594</td>\n",
       "    </tr>\n",
       "    <tr>\n",
       "      <th>52</th>\n",
       "      <td>NAME_INCOME_TYPE_Working</td>\n",
       "      <td>397.922596</td>\n",
       "    </tr>\n",
       "    <tr>\n",
       "      <th>78</th>\n",
       "      <td>OCCUPATION_TYPE_Laborers</td>\n",
       "      <td>394.546493</td>\n",
       "    </tr>\n",
       "    <tr>\n",
       "      <th>23</th>\n",
       "      <td>EXT_SOURCE_3</td>\n",
       "      <td>393.898856</td>\n",
       "    </tr>\n",
       "    <tr>\n",
       "      <th>86</th>\n",
       "      <td>OCCUPATION_TYPE_Unknown</td>\n",
       "      <td>258.904800</td>\n",
       "    </tr>\n",
       "  </tbody>\n",
       "</table>\n",
       "</div>"
      ],
      "text/plain": [
       "                                Features       Score\n",
       "53  NAME_EDUCATION_TYPE_Higher education  595.293713\n",
       "22                          EXT_SOURCE_2  530.926053\n",
       "8                 REG_CITY_NOT_WORK_CITY  523.532429\n",
       "37                           CODE_GENDER  496.911558\n",
       "7                 REG_CITY_NOT_LIVE_CITY  462.802338\n",
       "48            NAME_INCOME_TYPE_Pensioner  446.366594\n",
       "52              NAME_INCOME_TYPE_Working  397.922596\n",
       "78              OCCUPATION_TYPE_Laborers  394.546493\n",
       "23                          EXT_SOURCE_3  393.898856\n",
       "86               OCCUPATION_TYPE_Unknown  258.904800"
      ]
     },
     "metadata": {},
     "output_type": "display_data"
    }
   ],
   "source": [
    "fs_chi2 = FeatureSelector(method=chi2, k=30)\n",
    "\n",
    "fs_chi2.fit(X_train_scaled, y_train)\n",
    "\n",
    "# Lihat top 10 fitur terbaik\n",
    "fs_chi2.show_top_features(n=10)\n",
    "\n",
    "# Transform data (train, val, test)\n",
    "X_train_chi2 = fs_chi2.transform(X_train_scaled)\n",
    "X_val_chi2 = fs_chi2.transform(X_val_scaled)\n",
    "app_test_chi2 = fs_chi2.transform(final_app_test)"
   ]
  },
  {
   "cell_type": "markdown",
   "id": "d92707a1-0b7a-4435-9d7b-c6b69342ce85",
   "metadata": {},
   "source": [
    "#### Using mutual_info_classif"
   ]
  },
  {
   "cell_type": "code",
   "execution_count": 109,
   "id": "b91dfec0-07a4-4e54-aec9-203137520aeb",
   "metadata": {},
   "outputs": [
    {
     "name": "stdout",
     "output_type": "stream",
     "text": [
      "Top 10 features that correlate well with target feature:\n"
     ]
    },
    {
     "data": {
      "text/html": [
       "<div>\n",
       "<style scoped>\n",
       "    .dataframe tbody tr th:only-of-type {\n",
       "        vertical-align: middle;\n",
       "    }\n",
       "\n",
       "    .dataframe tbody tr th {\n",
       "        vertical-align: top;\n",
       "    }\n",
       "\n",
       "    .dataframe thead th {\n",
       "        text-align: right;\n",
       "    }\n",
       "</style>\n",
       "<table border=\"1\" class=\"dataframe\">\n",
       "  <thead>\n",
       "    <tr style=\"text-align: right;\">\n",
       "      <th></th>\n",
       "      <th>Features</th>\n",
       "      <th>Score</th>\n",
       "    </tr>\n",
       "  </thead>\n",
       "  <tbody>\n",
       "    <tr>\n",
       "      <th>2</th>\n",
       "      <td>FLAG_CONT_MOBILE</td>\n",
       "      <td>0.048261</td>\n",
       "    </tr>\n",
       "    <tr>\n",
       "      <th>10</th>\n",
       "      <td>FLAG_DOCUMENT_3</td>\n",
       "      <td>0.045854</td>\n",
       "    </tr>\n",
       "    <tr>\n",
       "      <th>39</th>\n",
       "      <td>FLAG_OWN_REALTY</td>\n",
       "      <td>0.045131</td>\n",
       "    </tr>\n",
       "    <tr>\n",
       "      <th>45</th>\n",
       "      <td>NAME_TYPE_SUITE_Unaccompanied</td>\n",
       "      <td>0.044428</td>\n",
       "    </tr>\n",
       "    <tr>\n",
       "      <th>56</th>\n",
       "      <td>NAME_FAMILY_STATUS_Married</td>\n",
       "      <td>0.042998</td>\n",
       "    </tr>\n",
       "    <tr>\n",
       "      <th>60</th>\n",
       "      <td>NAME_HOUSING_TYPE_House / apartment</td>\n",
       "      <td>0.039292</td>\n",
       "    </tr>\n",
       "    <tr>\n",
       "      <th>52</th>\n",
       "      <td>NAME_INCOME_TYPE_Working</td>\n",
       "      <td>0.036213</td>\n",
       "    </tr>\n",
       "    <tr>\n",
       "      <th>0</th>\n",
       "      <td>FLAG_MOBIL</td>\n",
       "      <td>0.035024</td>\n",
       "    </tr>\n",
       "    <tr>\n",
       "      <th>71</th>\n",
       "      <td>EMERGENCYSTATE_MODE_Unknown</td>\n",
       "      <td>0.031298</td>\n",
       "    </tr>\n",
       "    <tr>\n",
       "      <th>20</th>\n",
       "      <td>REGION_RATING_CLIENT_W_CITY</td>\n",
       "      <td>0.020718</td>\n",
       "    </tr>\n",
       "  </tbody>\n",
       "</table>\n",
       "</div>"
      ],
      "text/plain": [
       "                               Features     Score\n",
       "2                      FLAG_CONT_MOBILE  0.048261\n",
       "10                      FLAG_DOCUMENT_3  0.045854\n",
       "39                      FLAG_OWN_REALTY  0.045131\n",
       "45        NAME_TYPE_SUITE_Unaccompanied  0.044428\n",
       "56           NAME_FAMILY_STATUS_Married  0.042998\n",
       "60  NAME_HOUSING_TYPE_House / apartment  0.039292\n",
       "52             NAME_INCOME_TYPE_Working  0.036213\n",
       "0                            FLAG_MOBIL  0.035024\n",
       "71          EMERGENCYSTATE_MODE_Unknown  0.031298\n",
       "20          REGION_RATING_CLIENT_W_CITY  0.020718"
      ]
     },
     "metadata": {},
     "output_type": "display_data"
    }
   ],
   "source": [
    "fs_mi = FeatureSelector(method=mutual_info_classif, k=30)\n",
    "\n",
    "fs_mi.fit(X_train_scaled, y_train)\n",
    "\n",
    "# Lihat top 10 fitur terbaik\n",
    "fs_mi.show_top_features(n=10)\n",
    "\n",
    "# Transform data (train, val, test)\n",
    "X_train_mi = fs_mi.transform(X_train_scaled)\n",
    "X_val_mi = fs_mi.transform(X_val_scaled)\n",
    "app_test_mi = fs_mi.transform(final_app_test)"
   ]
  },
  {
   "cell_type": "markdown",
   "id": "b8d543ec-afd6-4841-b60e-ab4edc89451f",
   "metadata": {},
   "source": [
    "#### Oversampling to balance the Target"
   ]
  },
  {
   "cell_type": "code",
   "execution_count": 110,
   "id": "0c01cd8c-c85b-4e46-b98e-5156b5c2ef4c",
   "metadata": {},
   "outputs": [
    {
     "name": "stdout",
     "output_type": "stream",
     "text": [
      "Training Data shape (chi2):  (452288, 30)\n",
      "Target class (chi2):  TARGET\n",
      "0    226144\n",
      "1    226144\n",
      "Name: count, dtype: int64\n",
      "Training Data shape (mi):  (452288, 30)\n",
      "Target class (mi):  TARGET\n",
      "0    226144\n",
      "1    226144\n",
      "Name: count, dtype: int64\n"
     ]
    }
   ],
   "source": [
    "ros = RandomOverSampler(random_state=31)\n",
    "X_train_upsampled_chi2, y_train_upsampled_chi2 = ros.fit_resample(X_train_chi2, y_train)\n",
    "X_train_upsampled_mi, y_train_upsampled_mi = ros.fit_resample(X_train_mi, y_train)\n",
    "\n",
    "print('Training Data shape (chi2): ', X_train_upsampled_chi2.shape)\n",
    "print('Target class (chi2): ', y_train_upsampled_chi2.value_counts())\n",
    "\n",
    "print('Training Data shape (mi): ', X_train_upsampled_mi.shape)\n",
    "print('Target class (mi): ', y_train_upsampled_mi.value_counts())"
   ]
  },
  {
   "cell_type": "code",
   "execution_count": 114,
   "id": "bbbd11db-2772-45ce-bf7b-fb140c975e21",
   "metadata": {},
   "outputs": [],
   "source": [
    "# Save train/val data to csv\n",
    "X_train_upsampled_chi2.to_csv(os.path.join(path, 'X_train_upsampled_chi2.csv'), index=False)\n",
    "y_train_upsampled_chi2.to_csv(os.path.join(path, 'y_train_upsampled_chi2.csv'), index=False)\n",
    "X_train_upsampled_mi.to_csv(os.path.join(path, 'X_train_upsampled_mi.csv'), index=False)\n",
    "y_train_upsampled_mi.to_csv(os.path.join(path, 'y_train_upsampled_mi.csv'), index=False)\n",
    "X_val_chi2.to_csv(os.path.join(path, 'X_val_chi2.csv'), index=False)\n",
    "X_val_mi.to_csv(os.path.join(path, 'X_val_mi.csv'), index=False)\n",
    "y_val.to_csv(os.path.join(path, 'y_val.csv'), index=False)\n",
    "app_test_chi2.to_csv(os.path.join(path, 'app_test_chi2.csv'), index=False)\n",
    "app_test_id.to_csv(os.path.join(path, 'app_test_id.csv'), index=False)"
   ]
  },
  {
   "cell_type": "code",
   "execution_count": null,
   "id": "cc95ff38-920f-482e-9492-404c608fcdfa",
   "metadata": {},
   "outputs": [],
   "source": []
  }
 ],
 "metadata": {
  "kernelspec": {
   "display_name": "Python 3 (ipykernel)",
   "language": "python",
   "name": "python3"
  },
  "language_info": {
   "codemirror_mode": {
    "name": "ipython",
    "version": 3
   },
   "file_extension": ".py",
   "mimetype": "text/x-python",
   "name": "python",
   "nbconvert_exporter": "python",
   "pygments_lexer": "ipython3",
   "version": "3.11.7"
  }
 },
 "nbformat": 4,
 "nbformat_minor": 5
}
