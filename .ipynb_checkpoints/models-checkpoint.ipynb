{
 "cells": [
  {
   "cell_type": "code",
   "execution_count": 1,
   "id": "7215b5fa-9ff7-4de4-b9a9-d824e0f430e9",
   "metadata": {},
   "outputs": [],
   "source": [
    "import numpy as np\n",
    "import pandas as pd\n",
    "import matplotlib.pyplot as plt\n",
    "import seaborn as sns\n",
    "import os\n",
    "\n",
    "import warnings\n",
    "warnings.filterwarnings(\"ignore\")"
   ]
  },
  {
   "cell_type": "markdown",
   "id": "4dd52210-ceee-4391-bb3a-fad6351c50c4",
   "metadata": {},
   "source": [
    "# Model Building "
   ]
  },
  {
   "cell_type": "markdown",
   "id": "63da2518-e066-4ebc-99ff-fcf6d508dfe6",
   "metadata": {},
   "source": [
    "### Logistic Regression\n",
    "Logistic Regression disarankan memakai fitur-fitur hasil chi2"
   ]
  },
  {
   "cell_type": "code",
   "execution_count": 160,
   "id": "b7290f6d-c900-413e-b9c3-29b0efa2c24f",
   "metadata": {},
   "outputs": [
    {
     "name": "stdout",
     "output_type": "stream",
     "text": [
      "Execution time: 1.3088648319244385s\n"
     ]
    }
   ],
   "source": [
    "import time\n",
    "from sklearn.linear_model import LogisticRegression\n",
    "from sklearn.metrics import classification_report, confusion_matrix, roc_auc_score\n",
    "\n",
    "log_reg_model = LogisticRegression()\n",
    "\n",
    "start_time = time.time()\n",
    "log_reg_model.fit(X_train_upsampled_chi2, y_train_upsampled_chi2)\n",
    "print(\"Execution time: \" + str((time.time() - start_time)) + 's')"
   ]
  },
  {
   "cell_type": "code",
   "execution_count": 161,
   "id": "de5ff272-02a0-4421-ba1e-8496209e0622",
   "metadata": {},
   "outputs": [
    {
     "name": "stdout",
     "output_type": "stream",
     "text": [
      "\n",
      "Classification Report:\n",
      "              precision    recall  f1-score   support\n",
      "\n",
      "           0       0.96      0.68      0.80     56536\n",
      "           1       0.15      0.66      0.25      4965\n",
      "\n",
      "    accuracy                           0.68     61501\n",
      "   macro avg       0.56      0.67      0.52     61501\n",
      "weighted avg       0.89      0.68      0.75     61501\n",
      "\n",
      "\n",
      "Confusion Matrix:\n",
      "[[38530 18006]\n",
      " [ 1682  3283]]\n",
      "\n",
      "ROC-AUC on Test Set: 0.732658070908415\n"
     ]
    }
   ],
   "source": [
    "# Evaluasi hasil\n",
    "y_pred = log_reg_model.predict(X_test_chi2)\n",
    "y_proba = log_reg_model.predict_proba(X_test_chi2)[:, 1]\n",
    "\n",
    "print(\"\\nClassification Report:\")\n",
    "print(classification_report(y_test, y_pred))\n",
    "\n",
    "print(\"\\nConfusion Matrix:\")\n",
    "print(confusion_matrix(y_test, y_pred))\n",
    "\n",
    "print(\"\\nROC-AUC on Test Set:\", roc_auc_score(y_test, y_proba))"
   ]
  },
  {
   "cell_type": "markdown",
   "id": "724fbb9b-5556-44bb-8b01-cedafeaeb343",
   "metadata": {},
   "source": [
    "### LightGBM"
   ]
  },
  {
   "cell_type": "code",
   "execution_count": 162,
   "id": "6b0d8867-e2f5-4c6b-8831-5204e981c7a5",
   "metadata": {},
   "outputs": [
    {
     "name": "stdout",
     "output_type": "stream",
     "text": [
      "Nilai scale_pos_weight yang disarankan: 11.386908358509567\n",
      "[LightGBM] [Warning] Found whitespace in feature_names, replace with underlines\n",
      "[LightGBM] [Info] Number of positive: 19860, number of negative: 226144\n",
      "[LightGBM] [Info] Auto-choosing row-wise multi-threading, the overhead of testing was 0.015116 seconds.\n",
      "You can set `force_row_wise=true` to remove the overhead.\n",
      "And if memory is not enough, you can set `force_col_wise=true`.\n",
      "[LightGBM] [Info] Total Bins 1905\n",
      "[LightGBM] [Info] Number of data points in the train set: 246004, number of used features: 29\n",
      "[LightGBM] [Info] [binary:BoostFromScore]: pavg=0.080730 -> initscore=-2.432464\n",
      "[LightGBM] [Info] Start training from score -2.432464\n",
      "Execution time: 0.7726054191589355s\n"
     ]
    }
   ],
   "source": [
    "from lightgbm import LGBMClassifier\n",
    "\n",
    "count_class_0 = (y == 0).sum()\n",
    "count_class_1 = (y == 1).sum()\n",
    "scale_pos_weight = count_class_0 / count_class_1\n",
    "print(f\"Nilai scale_pos_weight yang disarankan: {scale_pos_weight}\")\n",
    "\n",
    "lgbm_model = LGBMClassifier(random_state=42, n_jobs=-1, verbose=1, scale_pos_weight=scale_pos_weight)\n",
    "\n",
    "start_time = time.time()\n",
    "lgbm_model.fit(X_train_mi, y_train)\n",
    "print('Execution time: '+ str(time.time() - start_time) + 's')"
   ]
  },
  {
   "cell_type": "code",
   "execution_count": 163,
   "id": "036360a7-2c3c-4730-a7f0-1f5c93a52186",
   "metadata": {},
   "outputs": [
    {
     "name": "stdout",
     "output_type": "stream",
     "text": [
      "\n",
      "Classification Report:\n",
      "              precision    recall  f1-score   support\n",
      "\n",
      "           0       0.96      0.69      0.80     56536\n",
      "           1       0.16      0.65      0.25      4965\n",
      "\n",
      "    accuracy                           0.69     61501\n",
      "   macro avg       0.56      0.67      0.53     61501\n",
      "weighted avg       0.89      0.69      0.76     61501\n",
      "\n",
      "\n",
      "Confusion Matrix:\n",
      "[[39000 17536]\n",
      " [ 1723  3242]]\n",
      "\n",
      "ROC-AUC on Test Set: 0.7384396894719811\n"
     ]
    }
   ],
   "source": [
    "# Evaluasi hasil\n",
    "y_pred = lgbm_model.predict(X_test_mi)\n",
    "y_proba = lgbm_model.predict_proba(X_test_mi)[:, 1]\n",
    "\n",
    "print(\"\\nClassification Report:\")\n",
    "print(classification_report(y_test, y_pred))\n",
    "\n",
    "print(\"\\nConfusion Matrix:\")\n",
    "print(confusion_matrix(y_test, y_pred))\n",
    "\n",
    "print(\"\\nROC-AUC on Test Set:\", roc_auc_score(y_test, y_proba))"
   ]
  },
  {
   "cell_type": "markdown",
   "id": "00527b21-aad7-49f8-b3c3-cd378d4e4c81",
   "metadata": {},
   "source": [
    "### Random Forest"
   ]
  },
  {
   "cell_type": "code",
   "execution_count": 164,
   "id": "e017c5ae-ecab-42d4-9b4e-7ec67c797e22",
   "metadata": {},
   "outputs": [
    {
     "name": "stdout",
     "output_type": "stream",
     "text": [
      "Execution time: 99.08204436302185s\n"
     ]
    }
   ],
   "source": [
    "from sklearn.ensemble import RandomForestClassifier\n",
    "\n",
    "rfc_model = RandomForestClassifier()\n",
    "\n",
    "start_time = time.time()\n",
    "rfc_model.fit(X_train_upsampled_mi, y_train_upsampled_mi)\n",
    "print('Execution time: '+ str(time.time() - start_time) + 's')"
   ]
  },
  {
   "cell_type": "code",
   "execution_count": 165,
   "id": "69077ffb-6c5b-4e4e-bfc6-290de272733d",
   "metadata": {},
   "outputs": [
    {
     "name": "stdout",
     "output_type": "stream",
     "text": [
      "\n",
      "Classification Report:\n",
      "              precision    recall  f1-score   support\n",
      "\n",
      "           0       0.92      1.00      0.96     56536\n",
      "           1       0.39      0.02      0.05      4965\n",
      "\n",
      "    accuracy                           0.92     61501\n",
      "   macro avg       0.65      0.51      0.50     61501\n",
      "weighted avg       0.88      0.92      0.88     61501\n",
      "\n",
      "\n",
      "Confusion Matrix:\n",
      "[[56347   189]\n",
      " [ 4845   120]]\n",
      "\n",
      "ROC-AUC on Test Set: 0.708859864673202\n"
     ]
    }
   ],
   "source": [
    "# Evaluasi hasil\n",
    "y_pred = rfc_model.predict(X_test_mi)\n",
    "y_proba = rfc_model.predict_proba(X_test_mi)[:, 1]\n",
    "\n",
    "print(\"\\nClassification Report:\")\n",
    "print(classification_report(y_test, y_pred))\n",
    "\n",
    "print(\"\\nConfusion Matrix:\")\n",
    "print(confusion_matrix(y_test, y_pred))\n",
    "\n",
    "print(\"\\nROC-AUC on Test Set:\", roc_auc_score(y_test, y_proba))"
   ]
  },
  {
   "cell_type": "markdown",
   "id": "42f60c64-3175-46b8-b11c-748d1e22b5d4",
   "metadata": {},
   "source": [
    "## Hyperparameter Tuning\n",
    "#### Logistic Regression"
   ]
  },
  {
   "cell_type": "code",
   "execution_count": 166,
   "id": "29b0c17c-d1d1-4144-90a2-2ae40b41d7c9",
   "metadata": {},
   "outputs": [
    {
     "name": "stdout",
     "output_type": "stream",
     "text": [
      "Fitting 3 folds for each of 3 candidates, totalling 9 fits\n",
      "Execution time: 8.457830429077148s\n"
     ]
    }
   ],
   "source": [
    "from sklearn.model_selection import GridSearchCV\n",
    "\n",
    "# Setup grid search logistic regression\n",
    "param_grid = {\n",
    "    'C': [0.01, 0.1, 1],\n",
    "    'penalty': ['l2'],\n",
    "    'solver': ['liblinear']\n",
    "}\n",
    "\n",
    "grid_lr = GridSearchCV(log_reg_model, param_grid, scoring='roc_auc', cv=3, n_jobs=-1, verbose=1)\n",
    "\n",
    "start_time = time.time()\n",
    "grid_lr.fit(X_train_upsampled_chi2, y_train_upsampled_chi2)\n",
    "print(\"Execution time: \" + str((time.time() - start_time)) + 's')"
   ]
  },
  {
   "cell_type": "code",
   "execution_count": 167,
   "id": "42ff3806-1847-451f-9496-e65618500de5",
   "metadata": {},
   "outputs": [
    {
     "name": "stdout",
     "output_type": "stream",
     "text": [
      "Best Parameters: {'C': 1, 'penalty': 'l2', 'solver': 'liblinear'}\n",
      "Best ROC-AUC (CV): 0.7339280009873494\n",
      "\n",
      "Classification Report:\n",
      "              precision    recall  f1-score   support\n",
      "\n",
      "           0       0.96      0.68      0.80     56536\n",
      "           1       0.15      0.66      0.25      4965\n",
      "\n",
      "    accuracy                           0.68     61501\n",
      "   macro avg       0.56      0.67      0.52     61501\n",
      "weighted avg       0.89      0.68      0.75     61501\n",
      "\n",
      "\n",
      "Confusion Matrix:\n",
      "[[38529 18007]\n",
      " [ 1680  3285]]\n",
      "\n",
      "ROC-AUC on Test Set: 0.7326576042200598\n"
     ]
    }
   ],
   "source": [
    "# Evaluasi hasil\n",
    "y_pred = grid_lr.predict(X_test_chi2)\n",
    "y_proba = grid_lr.predict_proba(X_test_chi2)[:, 1]\n",
    "\n",
    "print(\"Best Parameters:\", grid_lr.best_params_)\n",
    "print(\"Best ROC-AUC (CV):\", grid_lr.best_score_)\n",
    "\n",
    "print(\"\\nClassification Report:\")\n",
    "print(classification_report(y_test, y_pred))\n",
    "\n",
    "print(\"\\nConfusion Matrix:\")\n",
    "print(confusion_matrix(y_test, y_pred))\n",
    "\n",
    "print(\"\\nROC-AUC on Test Set:\", roc_auc_score(y_test, y_proba))"
   ]
  },
  {
   "cell_type": "markdown",
   "id": "46dfd60f-fa08-4c1b-af9d-20943114209f",
   "metadata": {},
   "source": [
    "### LightGBM"
   ]
  },
  {
   "cell_type": "code",
   "execution_count": 168,
   "id": "a1bb6619-2d38-429c-a08e-c04ec53122e0",
   "metadata": {},
   "outputs": [
    {
     "name": "stdout",
     "output_type": "stream",
     "text": [
      "Fitting 3 folds for each of 4 candidates, totalling 12 fits\n",
      "[LightGBM] [Warning] Found whitespace in feature_names, replace with underlines\n",
      "[LightGBM] [Info] Number of positive: 19860, number of negative: 226144\n",
      "[LightGBM] [Info] Auto-choosing row-wise multi-threading, the overhead of testing was 0.012534 seconds.\n",
      "You can set `force_row_wise=true` to remove the overhead.\n",
      "And if memory is not enough, you can set `force_col_wise=true`.\n",
      "[LightGBM] [Info] Total Bins 1905\n",
      "[LightGBM] [Info] Number of data points in the train set: 246004, number of used features: 29\n",
      "[LightGBM] [Info] [binary:BoostFromScore]: pavg=0.080730 -> initscore=-2.432464\n",
      "[LightGBM] [Info] Start training from score -2.432464\n",
      "Execution time: 14.139281511306763s\n"
     ]
    }
   ],
   "source": [
    "param_grid_lgbm = {\n",
    "    'n_estimators': [100],                  # Jumlah pohon dalam forest\n",
    "    'learning_rate': [0.1, 0.05],           # Laju pembelajaran\n",
    "    'num_leaves': [31, 50],                 # Jumlah daun maksimum per pohon\n",
    "}\n",
    "\n",
    "grid_lgbm = GridSearchCV(lgbm_model, param_grid_lgbm, scoring='roc_auc', cv=3, n_jobs=-1, verbose=1)\n",
    "\n",
    "start_time = time.time()\n",
    "grid_lgbm.fit(X_train_mi, y_train)\n",
    "print('Execution time: '+ str(time.time() - start_time) + 's')"
   ]
  },
  {
   "cell_type": "code",
   "execution_count": 169,
   "id": "0a0b27dc-6b9b-4794-aa12-34ed6c5c0c35",
   "metadata": {},
   "outputs": [
    {
     "name": "stdout",
     "output_type": "stream",
     "text": [
      "Best Parameters:  {'learning_rate': 0.05, 'n_estimators': 100, 'num_leaves': 31}\n",
      "Best ROC-AUC (CV):  0.7396492964141705\n",
      "\n",
      "Classification Report: \n",
      "              precision    recall  f1-score   support\n",
      "\n",
      "           0       0.96      0.69      0.80     56536\n",
      "           1       0.16      0.66      0.25      4965\n",
      "\n",
      "    accuracy                           0.68     61501\n",
      "   macro avg       0.56      0.67      0.53     61501\n",
      "weighted avg       0.89      0.68      0.76     61501\n",
      "\n",
      "\n",
      "Confusion Matrix:\n",
      "[[38821 17715]\n",
      " [ 1674  3291]]\n",
      "\n",
      "ROC-AUC on Test Set: 0.739809523107201\n"
     ]
    }
   ],
   "source": [
    "# Evaluasi\n",
    "y_pred_lgbm = grid_lgbm.predict(X_test_mi)\n",
    "y_proba_lgbm = grid_lgbm.predict_proba(X_test_mi)[:, 1]\n",
    "\n",
    "print('Best Parameters: ', grid_lgbm.best_params_)\n",
    "print('Best ROC-AUC (CV): ', grid_lgbm.best_score_)\n",
    "\n",
    "print('\\nClassification Report: ')\n",
    "print(classification_report(y_test, y_pred_lgbm))\n",
    "\n",
    "print(\"\\nConfusion Matrix:\")\n",
    "print(confusion_matrix(y_test, y_pred_lgbm))\n",
    "\n",
    "print(\"\\nROC-AUC on Test Set:\", roc_auc_score(y_test, y_proba_lgbm))"
   ]
  },
  {
   "cell_type": "markdown",
   "id": "22afab5d-8932-4127-a7c9-721463ae81c8",
   "metadata": {},
   "source": [
    "### Random Forest"
   ]
  },
  {
   "cell_type": "code",
   "execution_count": 170,
   "id": "62f3de4c-6e32-4a20-9984-2f7727b2343b",
   "metadata": {},
   "outputs": [
    {
     "name": "stdout",
     "output_type": "stream",
     "text": [
      "Fitting 3 folds for each of 4 candidates, totalling 12 fits\n",
      "Execution time: 228.7957808971405s\n"
     ]
    }
   ],
   "source": [
    "from sklearn.ensemble import RandomForestClassifier\n",
    "\n",
    "rfc_model = RandomForestClassifier()\n",
    "param_grid_rfc = {\n",
    "    'n_estimators': [100],\n",
    "    'max_depth': [10, 20],\n",
    "    'min_samples_split': [5, 10],\n",
    "    'max_features': ['sqrt']\n",
    "}\n",
    "\n",
    "grid_rfc = GridSearchCV(rfc_model, param_grid_rfc, scoring='roc_auc', cv=3, n_jobs=-1, verbose=1)\n",
    "\n",
    "start_time = time.time()\n",
    "grid_rfc.fit(X_train_upsampled_mi, y_train_upsampled_mi)\n",
    "print('Execution time: '+ str(time.time() - start_time) + 's')"
   ]
  },
  {
   "cell_type": "code",
   "execution_count": 171,
   "id": "a8bc13f8-3dba-45a2-b2b9-78cc71b00638",
   "metadata": {},
   "outputs": [
    {
     "name": "stdout",
     "output_type": "stream",
     "text": [
      "Best Parameters:  {'max_depth': 20, 'max_features': 'sqrt', 'min_samples_split': 5, 'n_estimators': 100}\n",
      "Best ROC-AUC (CV):  0.9939254999422186\n",
      "\n",
      "Classification Report: \n",
      "              precision    recall  f1-score   support\n",
      "\n",
      "           0       0.93      0.92      0.93     56536\n",
      "           1       0.23      0.26      0.24      4965\n",
      "\n",
      "    accuracy                           0.87     61501\n",
      "   macro avg       0.58      0.59      0.59     61501\n",
      "weighted avg       0.88      0.87      0.87     61501\n",
      "\n",
      "\n",
      "Confusion Matrix:\n",
      "[[52227  4309]\n",
      " [ 3675  1290]]\n",
      "\n",
      "ROC-AUC on Test Set: 0.710411297078702\n"
     ]
    }
   ],
   "source": [
    "# Evaluasi\n",
    "y_pred_rfc = grid_rfc.predict(X_test_mi)\n",
    "y_proba_rfc = grid_rfc.predict_proba(X_test_mi) [:, 1]\n",
    "\n",
    "print('Best Parameters: ', grid_rfc.best_params_)\n",
    "print('Best ROC-AUC (CV): ', grid_rfc.best_score_)\n",
    "\n",
    "print('\\nClassification Report: ')\n",
    "print(classification_report(y_test, y_pred_rfc))\n",
    "\n",
    "print(\"\\nConfusion Matrix:\")\n",
    "print(confusion_matrix(y_test, y_pred_rfc))\n",
    "\n",
    "print(\"\\nROC-AUC on Test Set:\", roc_auc_score(y_test, y_proba_rfc))"
   ]
  },
  {
   "cell_type": "markdown",
   "id": "5229fc23-e70a-44ce-9d3b-63d2bd2c45bd",
   "metadata": {},
   "source": [
    "# Prediction on Test Set ('application_test.csv')"
   ]
  },
  {
   "cell_type": "code",
   "execution_count": 172,
   "id": "81c80719-e665-46c8-94f6-ae97b7170375",
   "metadata": {},
   "outputs": [
    {
     "data": {
      "text/html": [
       "<div>\n",
       "<style scoped>\n",
       "    .dataframe tbody tr th:only-of-type {\n",
       "        vertical-align: middle;\n",
       "    }\n",
       "\n",
       "    .dataframe tbody tr th {\n",
       "        vertical-align: top;\n",
       "    }\n",
       "\n",
       "    .dataframe thead th {\n",
       "        text-align: right;\n",
       "    }\n",
       "</style>\n",
       "<table border=\"1\" class=\"dataframe\">\n",
       "  <thead>\n",
       "    <tr style=\"text-align: right;\">\n",
       "      <th></th>\n",
       "      <th>FLAG_WORK_PHONE</th>\n",
       "      <th>FLAG_PHONE</th>\n",
       "      <th>REG_CITY_NOT_LIVE_CITY</th>\n",
       "      <th>REG_CITY_NOT_WORK_CITY</th>\n",
       "      <th>LIVE_CITY_NOT_WORK_CITY</th>\n",
       "      <th>FLAG_DOCUMENT_3</th>\n",
       "      <th>DAYS_BIRTH</th>\n",
       "      <th>DAYS_EMPLOYED</th>\n",
       "      <th>REGION_RATING_CLIENT_W_CITY</th>\n",
       "      <th>EXT_SOURCE_2</th>\n",
       "      <th>EXT_SOURCE_3</th>\n",
       "      <th>DAYS_LAST_PHONE_CHANGE</th>\n",
       "      <th>NAME_CONTRACT_TYPE</th>\n",
       "      <th>CODE_GENDER</th>\n",
       "      <th>NAME_INCOME_TYPE_Pensioner</th>\n",
       "      <th>NAME_INCOME_TYPE_State servant</th>\n",
       "      <th>NAME_INCOME_TYPE_Working</th>\n",
       "      <th>NAME_EDUCATION_TYPE_Higher education</th>\n",
       "      <th>NAME_FAMILY_STATUS_Single / not married</th>\n",
       "      <th>NAME_FAMILY_STATUS_Widow</th>\n",
       "      <th>NAME_HOUSING_TYPE_With parents</th>\n",
       "      <th>EMERGENCYSTATE_MODE_Unknown</th>\n",
       "      <th>OCCUPATION_TYPE_Core staff</th>\n",
       "      <th>OCCUPATION_TYPE_Drivers</th>\n",
       "      <th>OCCUPATION_TYPE_Laborers</th>\n",
       "      <th>OCCUPATION_TYPE_Low-skill Laborers</th>\n",
       "      <th>OCCUPATION_TYPE_Sales staff</th>\n",
       "      <th>OCCUPATION_TYPE_Unknown</th>\n",
       "      <th>ORGANIZATION_TYPE_Business Entity Type 3</th>\n",
       "      <th>ORGANIZATION_TYPE_Self-employed</th>\n",
       "    </tr>\n",
       "  </thead>\n",
       "  <tbody>\n",
       "    <tr>\n",
       "      <th>0</th>\n",
       "      <td>0.0</td>\n",
       "      <td>0.0</td>\n",
       "      <td>0.0</td>\n",
       "      <td>0.0</td>\n",
       "      <td>0.0</td>\n",
       "      <td>1.0</td>\n",
       "      <td>0.663505</td>\n",
       "      <td>0.130025</td>\n",
       "      <td>0.5</td>\n",
       "      <td>0.923573</td>\n",
       "      <td>0.177549</td>\n",
       "      <td>0.405405</td>\n",
       "      <td>0.0</td>\n",
       "      <td>0.0</td>\n",
       "      <td>0.0</td>\n",
       "      <td>0.0</td>\n",
       "      <td>1.0</td>\n",
       "      <td>1.0</td>\n",
       "      <td>0.0</td>\n",
       "      <td>0.0</td>\n",
       "      <td>0.0</td>\n",
       "      <td>0.0</td>\n",
       "      <td>0.0</td>\n",
       "      <td>0.0</td>\n",
       "      <td>0.0</td>\n",
       "      <td>0.0</td>\n",
       "      <td>0.0</td>\n",
       "      <td>1.0</td>\n",
       "      <td>0.0</td>\n",
       "      <td>0.0</td>\n",
       "    </tr>\n",
       "    <tr>\n",
       "      <th>1</th>\n",
       "      <td>0.0</td>\n",
       "      <td>0.0</td>\n",
       "      <td>0.0</td>\n",
       "      <td>0.0</td>\n",
       "      <td>0.0</td>\n",
       "      <td>1.0</td>\n",
       "      <td>0.597053</td>\n",
       "      <td>0.249498</td>\n",
       "      <td>0.5</td>\n",
       "      <td>0.341118</td>\n",
       "      <td>0.482907</td>\n",
       "      <td>0.000000</td>\n",
       "      <td>0.0</td>\n",
       "      <td>1.0</td>\n",
       "      <td>0.0</td>\n",
       "      <td>0.0</td>\n",
       "      <td>1.0</td>\n",
       "      <td>0.0</td>\n",
       "      <td>0.0</td>\n",
       "      <td>0.0</td>\n",
       "      <td>0.0</td>\n",
       "      <td>1.0</td>\n",
       "      <td>0.0</td>\n",
       "      <td>0.0</td>\n",
       "      <td>0.0</td>\n",
       "      <td>1.0</td>\n",
       "      <td>0.0</td>\n",
       "      <td>0.0</td>\n",
       "      <td>0.0</td>\n",
       "      <td>1.0</td>\n",
       "    </tr>\n",
       "    <tr>\n",
       "      <th>2</th>\n",
       "      <td>0.0</td>\n",
       "      <td>0.0</td>\n",
       "      <td>0.0</td>\n",
       "      <td>0.0</td>\n",
       "      <td>0.0</td>\n",
       "      <td>0.0</td>\n",
       "      <td>0.708503</td>\n",
       "      <td>0.248883</td>\n",
       "      <td>0.5</td>\n",
       "      <td>0.818464</td>\n",
       "      <td>0.681715</td>\n",
       "      <td>0.199441</td>\n",
       "      <td>0.0</td>\n",
       "      <td>1.0</td>\n",
       "      <td>0.0</td>\n",
       "      <td>0.0</td>\n",
       "      <td>1.0</td>\n",
       "      <td>1.0</td>\n",
       "      <td>0.0</td>\n",
       "      <td>0.0</td>\n",
       "      <td>0.0</td>\n",
       "      <td>1.0</td>\n",
       "      <td>0.0</td>\n",
       "      <td>1.0</td>\n",
       "      <td>0.0</td>\n",
       "      <td>0.0</td>\n",
       "      <td>0.0</td>\n",
       "      <td>0.0</td>\n",
       "      <td>0.0</td>\n",
       "      <td>0.0</td>\n",
       "    </tr>\n",
       "    <tr>\n",
       "      <th>3</th>\n",
       "      <td>0.0</td>\n",
       "      <td>1.0</td>\n",
       "      <td>0.0</td>\n",
       "      <td>0.0</td>\n",
       "      <td>0.0</td>\n",
       "      <td>1.0</td>\n",
       "      <td>0.366249</td>\n",
       "      <td>0.104176</td>\n",
       "      <td>0.5</td>\n",
       "      <td>0.596114</td>\n",
       "      <td>0.683628</td>\n",
       "      <td>0.420550</td>\n",
       "      <td>0.0</td>\n",
       "      <td>0.0</td>\n",
       "      <td>0.0</td>\n",
       "      <td>0.0</td>\n",
       "      <td>1.0</td>\n",
       "      <td>0.0</td>\n",
       "      <td>0.0</td>\n",
       "      <td>0.0</td>\n",
       "      <td>0.0</td>\n",
       "      <td>0.0</td>\n",
       "      <td>0.0</td>\n",
       "      <td>0.0</td>\n",
       "      <td>0.0</td>\n",
       "      <td>0.0</td>\n",
       "      <td>1.0</td>\n",
       "      <td>0.0</td>\n",
       "      <td>1.0</td>\n",
       "      <td>0.0</td>\n",
       "    </tr>\n",
       "    <tr>\n",
       "      <th>4</th>\n",
       "      <td>1.0</td>\n",
       "      <td>0.0</td>\n",
       "      <td>0.0</td>\n",
       "      <td>1.0</td>\n",
       "      <td>1.0</td>\n",
       "      <td>1.0</td>\n",
       "      <td>0.313403</td>\n",
       "      <td>0.122320</td>\n",
       "      <td>0.5</td>\n",
       "      <td>0.497880</td>\n",
       "      <td>0.597163</td>\n",
       "      <td>0.191286</td>\n",
       "      <td>0.0</td>\n",
       "      <td>1.0</td>\n",
       "      <td>0.0</td>\n",
       "      <td>0.0</td>\n",
       "      <td>1.0</td>\n",
       "      <td>0.0</td>\n",
       "      <td>0.0</td>\n",
       "      <td>0.0</td>\n",
       "      <td>0.0</td>\n",
       "      <td>1.0</td>\n",
       "      <td>0.0</td>\n",
       "      <td>0.0</td>\n",
       "      <td>0.0</td>\n",
       "      <td>0.0</td>\n",
       "      <td>0.0</td>\n",
       "      <td>1.0</td>\n",
       "      <td>1.0</td>\n",
       "      <td>0.0</td>\n",
       "    </tr>\n",
       "  </tbody>\n",
       "</table>\n",
       "</div>"
      ],
      "text/plain": [
       "   FLAG_WORK_PHONE  FLAG_PHONE  REG_CITY_NOT_LIVE_CITY  \\\n",
       "0              0.0         0.0                     0.0   \n",
       "1              0.0         0.0                     0.0   \n",
       "2              0.0         0.0                     0.0   \n",
       "3              0.0         1.0                     0.0   \n",
       "4              1.0         0.0                     0.0   \n",
       "\n",
       "   REG_CITY_NOT_WORK_CITY  LIVE_CITY_NOT_WORK_CITY  FLAG_DOCUMENT_3  \\\n",
       "0                     0.0                      0.0              1.0   \n",
       "1                     0.0                      0.0              1.0   \n",
       "2                     0.0                      0.0              0.0   \n",
       "3                     0.0                      0.0              1.0   \n",
       "4                     1.0                      1.0              1.0   \n",
       "\n",
       "   DAYS_BIRTH  DAYS_EMPLOYED  REGION_RATING_CLIENT_W_CITY  EXT_SOURCE_2  \\\n",
       "0    0.663505       0.130025                          0.5      0.923573   \n",
       "1    0.597053       0.249498                          0.5      0.341118   \n",
       "2    0.708503       0.248883                          0.5      0.818464   \n",
       "3    0.366249       0.104176                          0.5      0.596114   \n",
       "4    0.313403       0.122320                          0.5      0.497880   \n",
       "\n",
       "   EXT_SOURCE_3  DAYS_LAST_PHONE_CHANGE  NAME_CONTRACT_TYPE  CODE_GENDER  \\\n",
       "0      0.177549                0.405405                 0.0          0.0   \n",
       "1      0.482907                0.000000                 0.0          1.0   \n",
       "2      0.681715                0.199441                 0.0          1.0   \n",
       "3      0.683628                0.420550                 0.0          0.0   \n",
       "4      0.597163                0.191286                 0.0          1.0   \n",
       "\n",
       "   NAME_INCOME_TYPE_Pensioner  NAME_INCOME_TYPE_State servant  \\\n",
       "0                         0.0                             0.0   \n",
       "1                         0.0                             0.0   \n",
       "2                         0.0                             0.0   \n",
       "3                         0.0                             0.0   \n",
       "4                         0.0                             0.0   \n",
       "\n",
       "   NAME_INCOME_TYPE_Working  NAME_EDUCATION_TYPE_Higher education  \\\n",
       "0                       1.0                                   1.0   \n",
       "1                       1.0                                   0.0   \n",
       "2                       1.0                                   1.0   \n",
       "3                       1.0                                   0.0   \n",
       "4                       1.0                                   0.0   \n",
       "\n",
       "   NAME_FAMILY_STATUS_Single / not married  NAME_FAMILY_STATUS_Widow  \\\n",
       "0                                      0.0                       0.0   \n",
       "1                                      0.0                       0.0   \n",
       "2                                      0.0                       0.0   \n",
       "3                                      0.0                       0.0   \n",
       "4                                      0.0                       0.0   \n",
       "\n",
       "   NAME_HOUSING_TYPE_With parents  EMERGENCYSTATE_MODE_Unknown  \\\n",
       "0                             0.0                          0.0   \n",
       "1                             0.0                          1.0   \n",
       "2                             0.0                          1.0   \n",
       "3                             0.0                          0.0   \n",
       "4                             0.0                          1.0   \n",
       "\n",
       "   OCCUPATION_TYPE_Core staff  OCCUPATION_TYPE_Drivers  \\\n",
       "0                         0.0                      0.0   \n",
       "1                         0.0                      0.0   \n",
       "2                         0.0                      1.0   \n",
       "3                         0.0                      0.0   \n",
       "4                         0.0                      0.0   \n",
       "\n",
       "   OCCUPATION_TYPE_Laborers  OCCUPATION_TYPE_Low-skill Laborers  \\\n",
       "0                       0.0                                 0.0   \n",
       "1                       0.0                                 1.0   \n",
       "2                       0.0                                 0.0   \n",
       "3                       0.0                                 0.0   \n",
       "4                       0.0                                 0.0   \n",
       "\n",
       "   OCCUPATION_TYPE_Sales staff  OCCUPATION_TYPE_Unknown  \\\n",
       "0                          0.0                      1.0   \n",
       "1                          0.0                      0.0   \n",
       "2                          0.0                      0.0   \n",
       "3                          1.0                      0.0   \n",
       "4                          0.0                      1.0   \n",
       "\n",
       "   ORGANIZATION_TYPE_Business Entity Type 3  ORGANIZATION_TYPE_Self-employed  \n",
       "0                                       0.0                              0.0  \n",
       "1                                       0.0                              1.0  \n",
       "2                                       0.0                              0.0  \n",
       "3                                       1.0                              0.0  \n",
       "4                                       1.0                              0.0  "
      ]
     },
     "execution_count": 172,
     "metadata": {},
     "output_type": "execute_result"
    }
   ],
   "source": [
    "final_appts_chi2.head()"
   ]
  },
  {
   "cell_type": "code",
   "execution_count": 173,
   "id": "1fbcfbbd-90f9-40df-b229-1bc82db0f11f",
   "metadata": {},
   "outputs": [
    {
     "data": {
      "text/html": [
       "<div>\n",
       "<style scoped>\n",
       "    .dataframe tbody tr th:only-of-type {\n",
       "        vertical-align: middle;\n",
       "    }\n",
       "\n",
       "    .dataframe tbody tr th {\n",
       "        vertical-align: top;\n",
       "    }\n",
       "\n",
       "    .dataframe thead th {\n",
       "        text-align: right;\n",
       "    }\n",
       "</style>\n",
       "<table border=\"1\" class=\"dataframe\">\n",
       "  <thead>\n",
       "    <tr style=\"text-align: right;\">\n",
       "      <th></th>\n",
       "      <th>SK_ID_CURR</th>\n",
       "      <th>TARGET</th>\n",
       "    </tr>\n",
       "  </thead>\n",
       "  <tbody>\n",
       "    <tr>\n",
       "      <th>0</th>\n",
       "      <td>100001</td>\n",
       "      <td>0</td>\n",
       "    </tr>\n",
       "    <tr>\n",
       "      <th>1</th>\n",
       "      <td>100005</td>\n",
       "      <td>1</td>\n",
       "    </tr>\n",
       "    <tr>\n",
       "      <th>2</th>\n",
       "      <td>100013</td>\n",
       "      <td>0</td>\n",
       "    </tr>\n",
       "    <tr>\n",
       "      <th>3</th>\n",
       "      <td>100028</td>\n",
       "      <td>0</td>\n",
       "    </tr>\n",
       "    <tr>\n",
       "      <th>4</th>\n",
       "      <td>100038</td>\n",
       "      <td>0</td>\n",
       "    </tr>\n",
       "  </tbody>\n",
       "</table>\n",
       "</div>"
      ],
      "text/plain": [
       "   SK_ID_CURR  TARGET\n",
       "0      100001       0\n",
       "1      100005       1\n",
       "2      100013       0\n",
       "3      100028       0\n",
       "4      100038       0"
      ]
     },
     "execution_count": 173,
     "metadata": {},
     "output_type": "execute_result"
    }
   ],
   "source": [
    "predict = pd.Series(grid_lgbm.predict(final_appts_mi), name = \"TARGET\").astype(int)\n",
    "results = pd.concat([appts_id, predict],axis = 1)\n",
    "results.to_csv(\"predict_application.csv\", index = False)\n",
    "results.head()"
   ]
  },
  {
   "cell_type": "code",
   "execution_count": null,
   "id": "81befcfc-99c5-4dcc-b8c0-4c961c7fb281",
   "metadata": {},
   "outputs": [],
   "source": []
  }
 ],
 "metadata": {
  "kernelspec": {
   "display_name": "Python 3 (ipykernel)",
   "language": "python",
   "name": "python3"
  },
  "language_info": {
   "codemirror_mode": {
    "name": "ipython",
    "version": 3
   },
   "file_extension": ".py",
   "mimetype": "text/x-python",
   "name": "python",
   "nbconvert_exporter": "python",
   "pygments_lexer": "ipython3",
   "version": "3.11.7"
  }
 },
 "nbformat": 4,
 "nbformat_minor": 5
}
